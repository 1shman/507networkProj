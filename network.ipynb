{
 "cells": [
  {
   "cell_type": "code",
   "execution_count": 10,
   "id": "48f875ce",
   "metadata": {},
   "outputs": [],
   "source": [
    "import pandas as pd\n",
    "import csv"
   ]
  },
  {
   "cell_type": "code",
   "execution_count": 11,
   "id": "85036b23",
   "metadata": {},
   "outputs": [],
   "source": [
    "nba = pd.read_csv(\"all_seasons.csv\")"
   ]
  },
  {
   "cell_type": "code",
   "execution_count": 12,
   "id": "5896a1cf",
   "metadata": {},
   "outputs": [],
   "source": [
    "# Gather necessary columns\n",
    "college_nba_pipeline = nba[[\"player_name\", \"team_abbreviation\", \"college\"]]"
   ]
  },
  {
   "cell_type": "code",
   "execution_count": 13,
   "id": "6696a7c6",
   "metadata": {},
   "outputs": [
    {
     "data": {
      "text/html": [
       "<div>\n",
       "<style scoped>\n",
       "    .dataframe tbody tr th:only-of-type {\n",
       "        vertical-align: middle;\n",
       "    }\n",
       "\n",
       "    .dataframe tbody tr th {\n",
       "        vertical-align: top;\n",
       "    }\n",
       "\n",
       "    .dataframe thead th {\n",
       "        text-align: right;\n",
       "    }\n",
       "</style>\n",
       "<table border=\"1\" class=\"dataframe\">\n",
       "  <thead>\n",
       "    <tr style=\"text-align: right;\">\n",
       "      <th></th>\n",
       "      <th>player_name</th>\n",
       "      <th>team_abbreviation</th>\n",
       "      <th>college</th>\n",
       "    </tr>\n",
       "  </thead>\n",
       "  <tbody>\n",
       "    <tr>\n",
       "      <th>0</th>\n",
       "      <td>Randy Livingston</td>\n",
       "      <td>HOU</td>\n",
       "      <td>Louisiana State</td>\n",
       "    </tr>\n",
       "    <tr>\n",
       "      <th>1</th>\n",
       "      <td>Gaylon Nickerson</td>\n",
       "      <td>WAS</td>\n",
       "      <td>Northwestern Oklahoma</td>\n",
       "    </tr>\n",
       "    <tr>\n",
       "      <th>2</th>\n",
       "      <td>George Lynch</td>\n",
       "      <td>VAN</td>\n",
       "      <td>North Carolina</td>\n",
       "    </tr>\n",
       "    <tr>\n",
       "      <th>3</th>\n",
       "      <td>George McCloud</td>\n",
       "      <td>LAL</td>\n",
       "      <td>Florida State</td>\n",
       "    </tr>\n",
       "    <tr>\n",
       "      <th>4</th>\n",
       "      <td>George Zidek</td>\n",
       "      <td>DEN</td>\n",
       "      <td>UCLA</td>\n",
       "    </tr>\n",
       "    <tr>\n",
       "      <th>...</th>\n",
       "      <td>...</td>\n",
       "      <td>...</td>\n",
       "      <td>...</td>\n",
       "    </tr>\n",
       "    <tr>\n",
       "      <th>12839</th>\n",
       "      <td>Joel Embiid</td>\n",
       "      <td>PHI</td>\n",
       "      <td>Kansas</td>\n",
       "    </tr>\n",
       "    <tr>\n",
       "      <th>12840</th>\n",
       "      <td>John Butler Jr.</td>\n",
       "      <td>POR</td>\n",
       "      <td>Florida State</td>\n",
       "    </tr>\n",
       "    <tr>\n",
       "      <th>12841</th>\n",
       "      <td>John Collins</td>\n",
       "      <td>ATL</td>\n",
       "      <td>Wake Forest</td>\n",
       "    </tr>\n",
       "    <tr>\n",
       "      <th>12842</th>\n",
       "      <td>Jericho Sims</td>\n",
       "      <td>NYK</td>\n",
       "      <td>Texas</td>\n",
       "    </tr>\n",
       "    <tr>\n",
       "      <th>12843</th>\n",
       "      <td>JaMychal Green</td>\n",
       "      <td>GSW</td>\n",
       "      <td>Alabama</td>\n",
       "    </tr>\n",
       "  </tbody>\n",
       "</table>\n",
       "<p>12844 rows × 3 columns</p>\n",
       "</div>"
      ],
      "text/plain": [
       "            player_name team_abbreviation                college\n",
       "0      Randy Livingston               HOU        Louisiana State\n",
       "1      Gaylon Nickerson               WAS  Northwestern Oklahoma\n",
       "2          George Lynch               VAN         North Carolina\n",
       "3        George McCloud               LAL          Florida State\n",
       "4          George Zidek               DEN                   UCLA\n",
       "...                 ...               ...                    ...\n",
       "12839       Joel Embiid               PHI                 Kansas\n",
       "12840   John Butler Jr.               POR          Florida State\n",
       "12841      John Collins               ATL            Wake Forest\n",
       "12842      Jericho Sims               NYK                  Texas\n",
       "12843    JaMychal Green               GSW                Alabama\n",
       "\n",
       "[12844 rows x 3 columns]"
      ]
     },
     "execution_count": 13,
     "metadata": {},
     "output_type": "execute_result"
    }
   ],
   "source": [
    "college_nba_pipeline"
   ]
  },
  {
   "cell_type": "code",
   "execution_count": 14,
   "id": "5094c0dd",
   "metadata": {},
   "outputs": [],
   "source": [
    "def create_adjacency_list(data):\n",
    "    # Create an empty dictionary to store the adjacency list\n",
    "    adjacency_list = {}\n",
    "\n",
    "    # Iterate over each row in the data\n",
    "    for index, row in data.iterrows():\n",
    "        college = row['college']\n",
    "        team = row['team_abbreviation']\n",
    "\n",
    "        # If college is not in the adjacency list, add it with an empty list\n",
    "        if college not in adjacency_list:\n",
    "            adjacency_list[college] = []\n",
    "\n",
    "        # Append the team to the college's list if it's not already there\n",
    "        if team not in adjacency_list[college]:\n",
    "            adjacency_list[college].append(team)\n",
    "\n",
    "    return adjacency_list"
   ]
  },
  {
   "cell_type": "code",
   "execution_count": 15,
   "id": "d946a25e",
   "metadata": {},
   "outputs": [],
   "source": [
    "adj_list = create_adjacency_list(college_nba_pipeline)"
   ]
  },
  {
   "cell_type": "code",
   "execution_count": 16,
   "id": "51b88f08",
   "metadata": {},
   "outputs": [],
   "source": [
    "with open('dict.csv', 'w') as csv_file:\n",
    "    writer = csv.writer(csv_file)\n",
    "    for key, value in adj_list.items():\n",
    "       writer.writerow([key, value])"
   ]
  }
 ],
 "metadata": {
  "kernelspec": {
   "display_name": "Python 3",
   "language": "python",
   "name": "python3"
  },
  "language_info": {
   "codemirror_mode": {
    "name": "ipython",
    "version": 3
   },
   "file_extension": ".py",
   "mimetype": "text/x-python",
   "name": "python",
   "nbconvert_exporter": "python",
   "pygments_lexer": "ipython3",
   "version": "3.12.4"
  }
 },
 "nbformat": 4,
 "nbformat_minor": 5
}
